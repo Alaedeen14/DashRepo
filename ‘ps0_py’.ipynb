{
  "nbformat": 4,
  "nbformat_minor": 0,
  "metadata": {
    "colab": {
      "provenance": [],
      "toc_visible": true,
      "authorship_tag": "ABX9TyO7pfbla31WGLlppmaqTQk7",
      "include_colab_link": true
    },
    "kernelspec": {
      "name": "python3",
      "display_name": "Python 3"
    },
    "language_info": {
      "name": "python"
    }
  },
  "cells": [
    {
      "cell_type": "markdown",
      "metadata": {
        "id": "view-in-github",
        "colab_type": "text"
      },
      "source": [
        "<a href=\"https://colab.research.google.com/github/Alaedeen14/DashRepo/blob/main/%E2%80%98ps0_py%E2%80%99.ipynb\" target=\"_parent\"><img src=\"https://colab.research.google.com/assets/colab-badge.svg\" alt=\"Open In Colab\"/></a>"
      ]
    },
    {
      "cell_type": "code",
      "execution_count": 4,
      "metadata": {
        "colab": {
          "base_uri": "https://localhost:8080/"
        },
        "id": "3KEHpMY0U3dt",
        "outputId": "9221256c-6ef1-4d25-fd08-ae1b32ae9b4d"
      },
      "outputs": [
        {
          "output_type": "stream",
          "name": "stdout",
          "text": [
            "Enter number x: 2\n",
            "Enter number y: 3\n",
            "x**y = 8\n",
            "log(x) = 1.0\n"
          ]
        }
      ],
      "source": [
        "import math\n",
        "\n",
        "x = int(input(\"Enter number x: \"))\n",
        "y = int(input(\"Enter number y: \"))\n",
        "print(\"x**y =\", x ** y)\n",
        "print(\"log(x) =\", math.log2(x))"
      ]
    },
    {
      "cell_type": "markdown",
      "source": [
        "# New Section"
      ],
      "metadata": {
        "id": "B7mbjGmgaZHL"
      }
    }
  ]
}